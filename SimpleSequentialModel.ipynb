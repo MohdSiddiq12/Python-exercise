{
  "cells": [
    {
      "cell_type": "markdown",
      "metadata": {
        "id": "YZtcMME-FZTU"
      },
      "source": [
        "## Preprocessing Data"
      ]
    },
    {
      "cell_type": "code",
      "execution_count": 1,
      "metadata": {
        "collapsed": true,
        "id": "6OFjN4M3FZTX"
      },
      "outputs": [],
      "source": [
        "import numpy as np\n",
        "from random import randint\n",
        "from sklearn.preprocessing import MinMaxScaler"
      ]
    },
    {
      "cell_type": "code",
      "execution_count": 2,
      "metadata": {
        "collapsed": true,
        "id": "OvSorDfQFZTY"
      },
      "outputs": [],
      "source": [
        "train_labels =  []\n",
        "train_samples = []"
      ]
    },
    {
      "cell_type": "markdown",
      "metadata": {
        "id": "8ipzdQZCFZTY"
      },
      "source": [
        "Example data:\n",
        "- An experiemental drug was tested on individuals from ages 13 to 100.\n",
        "- The trial had 2100 participants. Half were under 65 years old, half were over 65 years old.\n",
        "- 95% of patientes 65 or older experienced side effects.\n",
        "- 95% of patients under 65 experienced no side effects."
      ]
    },
    {
      "cell_type": "code",
      "execution_count": 3,
      "metadata": {
        "id": "QHA5wbdRFZTZ"
      },
      "outputs": [],
      "source": [
        "for i in range(50):\n",
        "    # The 5% of younger individuals who did experience side effects\n",
        "    random_younger = randint(13,64)\n",
        "    train_samples.append(random_younger)\n",
        "    train_labels.append(1)\n",
        "\n",
        "    # The 5% of older individuals who did not experience side effects\n",
        "    random_older = randint(65,100)\n",
        "    train_samples.append(random_older)\n",
        "    train_labels.append(0)\n",
        "\n",
        "for i in range(1000):\n",
        "    # The 95% of younger individuals who did not experience side effects\n",
        "    random_younger = randint(13,64)\n",
        "    train_samples.append(random_younger)\n",
        "    train_labels.append(0)\n",
        "\n",
        "    # The 95% of older individuals who did experience side effects\n",
        "    random_older = randint(65,100)\n",
        "    train_samples.append(random_older)\n",
        "    train_labels.append(1)"
      ]
    },
    {
      "cell_type": "code",
      "execution_count": null,
      "metadata": {
        "id": "0VJ-APIxFZTZ"
      },
      "outputs": [],
      "source": [
        "#print raw data\n",
        "for i in train_samples:\n",
        "    print(i)"
      ]
    },
    {
      "cell_type": "code",
      "execution_count": null,
      "metadata": {
        "id": "9zhjX71VFZTb"
      },
      "outputs": [],
      "source": [
        "for i in train_labels:\n",
        "    print(i)"
      ]
    },
    {
      "cell_type": "code",
      "execution_count": 5,
      "metadata": {
        "collapsed": true,
        "id": "9qWaiX5cFZTb"
      },
      "outputs": [],
      "source": [
        "train_labels = np.array(train_labels)\n",
        "train_samples = np.array(train_samples)"
      ]
    },
    {
      "cell_type": "code",
      "execution_count": 6,
      "metadata": {
        "id": "-IeDdswUFZTb"
      },
      "outputs": [],
      "source": [
        "scaler = MinMaxScaler(feature_range=(0,1))\n",
        "scaled_train_samples = scaler.fit_transform((train_samples).reshape(-1,1))"
      ]
    },
    {
      "cell_type": "code",
      "execution_count": null,
      "metadata": {
        "id": "0F5avMiTFZTc"
      },
      "outputs": [],
      "source": [
        "#print scaled data\n",
        "for i in scaled_train_samples:\n",
        "    print(i)"
      ]
    },
    {
      "cell_type": "markdown",
      "metadata": {
        "id": "WSDrdcyOFZTc"
      },
      "source": [
        "## Simple Sequential Model\n"
      ]
    },
    {
      "cell_type": "code",
      "execution_count": 7,
      "metadata": {
        "id": "5s_xScH8FZTc"
      },
      "outputs": [],
      "source": [
        "import tensorflow as tf\n",
        "from tensorflow import keras\n",
        "from tensorflow.keras import layers\n",
        "from tensorflow.keras.optimizers import Adam\n",
        "from tensorflow.keras.models import Sequential\n",
        "from tensorflow.keras.layers import Dense"
      ]
    },
    {
      "cell_type": "code",
      "execution_count": 8,
      "metadata": {
        "id": "sSxiW7MEFZTc"
      },
      "outputs": [],
      "source": [
        "model = Sequential([\n",
        "    Dense(units= 16, input_shape=(1,),activation='relu'),\n",
        "    Dense(units=32,activation='relu'),\n",
        "    Dense(units=2,activation='softmax')\n",
        "])"
      ]
    },
    {
      "cell_type": "code",
      "execution_count": 9,
      "metadata": {
        "colab": {
          "base_uri": "https://localhost:8080/"
        },
        "id": "ApkkSEk1FZTc",
        "outputId": "91c1d556-e81b-43a1-cc84-17585b96e935"
      },
      "outputs": [
        {
          "output_type": "stream",
          "name": "stdout",
          "text": [
            "Model: \"sequential\"\n",
            "_________________________________________________________________\n",
            " Layer (type)                Output Shape              Param #   \n",
            "=================================================================\n",
            " dense (Dense)               (None, 16)                32        \n",
            "                                                                 \n",
            " dense_1 (Dense)             (None, 32)                544       \n",
            "                                                                 \n",
            " dense_2 (Dense)             (None, 2)                 66        \n",
            "                                                                 \n",
            "=================================================================\n",
            "Total params: 642 (2.51 KB)\n",
            "Trainable params: 642 (2.51 KB)\n",
            "Non-trainable params: 0 (0.00 Byte)\n",
            "_________________________________________________________________\n"
          ]
        }
      ],
      "source": [
        "# Get the model summary\n",
        "model.summary()"
      ]
    },
    {
      "cell_type": "code",
      "execution_count": 14,
      "metadata": {
        "id": "-mFg80lYFZTd"
      },
      "outputs": [],
      "source": [
        "model.compile(optimizer=Adam(), loss='sparse_categorical_crossentropy', metrics=['accuracy'])"
      ]
    },
    {
      "cell_type": "code",
      "execution_count": 15,
      "metadata": {
        "colab": {
          "base_uri": "https://localhost:8080/"
        },
        "id": "tkC_9M66FZTd",
        "outputId": "ceb08225-f0fb-4932-e3a3-587a2493dd07"
      },
      "outputs": [
        {
          "output_type": "stream",
          "name": "stdout",
          "text": [
            "Epoch 1/20\n",
            "189/189 - 1s - loss: 0.6239 - accuracy: 0.7164 - val_loss: 0.4909 - val_accuracy: 0.9714 - 1s/epoch - 5ms/step\n",
            "Epoch 2/20\n",
            "189/189 - 0s - loss: 0.4268 - accuracy: 0.8810 - val_loss: 0.2534 - val_accuracy: 0.9810 - 215ms/epoch - 1ms/step\n",
            "Epoch 3/20\n",
            "189/189 - 0s - loss: 0.3210 - accuracy: 0.9175 - val_loss: 0.1765 - val_accuracy: 0.9952 - 223ms/epoch - 1ms/step\n",
            "Epoch 4/20\n",
            "189/189 - 0s - loss: 0.2923 - accuracy: 0.9312 - val_loss: 0.1371 - val_accuracy: 0.9810 - 209ms/epoch - 1ms/step\n",
            "Epoch 5/20\n",
            "189/189 - 0s - loss: 0.2809 - accuracy: 0.9312 - val_loss: 0.1277 - val_accuracy: 1.0000 - 210ms/epoch - 1ms/step\n",
            "Epoch 6/20\n",
            "189/189 - 0s - loss: 0.2752 - accuracy: 0.9360 - val_loss: 0.1198 - val_accuracy: 1.0000 - 204ms/epoch - 1ms/step\n",
            "Epoch 7/20\n",
            "189/189 - 0s - loss: 0.2695 - accuracy: 0.9397 - val_loss: 0.1207 - val_accuracy: 0.9857 - 217ms/epoch - 1ms/step\n",
            "Epoch 8/20\n",
            "189/189 - 0s - loss: 0.2662 - accuracy: 0.9402 - val_loss: 0.1132 - val_accuracy: 1.0000 - 211ms/epoch - 1ms/step\n",
            "Epoch 9/20\n",
            "189/189 - 0s - loss: 0.2646 - accuracy: 0.9392 - val_loss: 0.1057 - val_accuracy: 0.9952 - 295ms/epoch - 2ms/step\n",
            "Epoch 10/20\n",
            "189/189 - 0s - loss: 0.2621 - accuracy: 0.9407 - val_loss: 0.0958 - val_accuracy: 0.9952 - 312ms/epoch - 2ms/step\n",
            "Epoch 11/20\n",
            "189/189 - 0s - loss: 0.2606 - accuracy: 0.9423 - val_loss: 0.0932 - val_accuracy: 0.9952 - 309ms/epoch - 2ms/step\n",
            "Epoch 12/20\n",
            "189/189 - 0s - loss: 0.2601 - accuracy: 0.9392 - val_loss: 0.0971 - val_accuracy: 0.9952 - 330ms/epoch - 2ms/step\n",
            "Epoch 13/20\n",
            "189/189 - 0s - loss: 0.2598 - accuracy: 0.9402 - val_loss: 0.1002 - val_accuracy: 1.0000 - 317ms/epoch - 2ms/step\n",
            "Epoch 14/20\n",
            "189/189 - 0s - loss: 0.2576 - accuracy: 0.9407 - val_loss: 0.0915 - val_accuracy: 0.9952 - 309ms/epoch - 2ms/step\n",
            "Epoch 15/20\n",
            "189/189 - 0s - loss: 0.2571 - accuracy: 0.9397 - val_loss: 0.1017 - val_accuracy: 0.9857 - 260ms/epoch - 1ms/step\n",
            "Epoch 16/20\n",
            "189/189 - 0s - loss: 0.2573 - accuracy: 0.9407 - val_loss: 0.0902 - val_accuracy: 1.0000 - 207ms/epoch - 1ms/step\n",
            "Epoch 17/20\n",
            "189/189 - 0s - loss: 0.2562 - accuracy: 0.9444 - val_loss: 0.0896 - val_accuracy: 0.9952 - 226ms/epoch - 1ms/step\n",
            "Epoch 18/20\n",
            "189/189 - 0s - loss: 0.2552 - accuracy: 0.9407 - val_loss: 0.0920 - val_accuracy: 1.0000 - 224ms/epoch - 1ms/step\n",
            "Epoch 19/20\n",
            "189/189 - 0s - loss: 0.2541 - accuracy: 0.9439 - val_loss: 0.0923 - val_accuracy: 1.0000 - 219ms/epoch - 1ms/step\n",
            "Epoch 20/20\n",
            "189/189 - 0s - loss: 0.2538 - accuracy: 0.9429 - val_loss: 0.0880 - val_accuracy: 1.0000 - 219ms/epoch - 1ms/step\n"
          ]
        },
        {
          "output_type": "execute_result",
          "data": {
            "text/plain": [
              "<keras.src.callbacks.History at 0x7c41a677e5f0>"
            ]
          },
          "metadata": {},
          "execution_count": 15
        }
      ],
      "source": [
        "model.fit(scaled_train_samples,train_labels,validation_split=0.1,batch_size=10,epochs=20,verbose=2)"
      ]
    },
    {
      "cell_type": "markdown",
      "metadata": {
        "id": "H3UoyJMxFZTe"
      },
      "source": [
        "# Save and Load Model"
      ]
    },
    {
      "cell_type": "markdown",
      "metadata": {
        "id": "245y5At1FZTe"
      },
      "source": [
        "## 1. model.save()"
      ]
    },
    {
      "cell_type": "code",
      "execution_count": null,
      "metadata": {
        "collapsed": true,
        "id": "hQg8vAnsFZTe"
      },
      "outputs": [],
      "source": [
        "model.save('medical_trial_model.h5')"
      ]
    },
    {
      "cell_type": "markdown",
      "metadata": {
        "id": "dz70M1VtFZTe"
      },
      "source": [
        "This save functions saves:\n",
        "- The architecture of the model, allowing to re-create the model.\n",
        "- The weights of the model.\n",
        "- The training configuration (loss, optimizer).\n",
        "- The state of the optimizer, allowing to resume training exactly where you left off.\n"
      ]
    },
    {
      "cell_type": "code",
      "execution_count": null,
      "metadata": {
        "collapsed": true,
        "id": "IfYItAP6FZTe"
      },
      "outputs": [],
      "source": [
        "from keras.models import load_model\n",
        "new_model = load_model('medical_trial_model.h5')"
      ]
    },
    {
      "cell_type": "code",
      "execution_count": null,
      "metadata": {
        "id": "DDhiuIn1FZTe",
        "outputId": "2a2adef5-78b5-43b9-a261-25b999b5224e"
      },
      "outputs": [
        {
          "name": "stdout",
          "output_type": "stream",
          "text": [
            "_________________________________________________________________\n",
            "Layer (type)                 Output Shape              Param #   \n",
            "=================================================================\n",
            "dense_7 (Dense)              (None, 16)                32        \n",
            "_________________________________________________________________\n",
            "dense_8 (Dense)              (None, 32)                544       \n",
            "_________________________________________________________________\n",
            "dense_9 (Dense)              (None, 2)                 66        \n",
            "=================================================================\n",
            "Total params: 642\n",
            "Trainable params: 642\n",
            "Non-trainable params: 0\n",
            "_________________________________________________________________\n"
          ]
        }
      ],
      "source": [
        "new_model.summary()"
      ]
    },
    {
      "cell_type": "code",
      "execution_count": null,
      "metadata": {
        "id": "NgTG0nHqFZTf",
        "outputId": "6e8958a1-8adf-4139-aa01-cb9fe491e3ee"
      },
      "outputs": [
        {
          "data": {
            "text/plain": [
              "[array([[-0.55824059, -0.23213108, -0.23506787, -0.18476903, -0.02869798,\n",
              "          0.22048838, -0.24348828, -0.20775913, -0.04001847,  0.52669042,\n",
              "         -0.57981801,  0.35746267, -0.17660122, -0.22007732,  0.69854277,\n",
              "          0.52346867]], dtype=float32),\n",
              " array([ -5.05928067e-04,   1.90466806e-01,  -5.11594524e-04,\n",
              "         -5.11574442e-04,   1.53560624e-01,   2.13311628e-01,\n",
              "          1.95102409e-01,  -1.62209501e-04,  -5.11592429e-04,\n",
              "         -6.52560219e-02,  -5.11568855e-04,  -2.15423163e-02,\n",
              "          1.51852086e-01,  -5.11587015e-04,  -8.08358714e-02,\n",
              "          1.78475305e-01], dtype=float32),\n",
              " array([[-0.00450879, -0.08100165,  0.11644009,  0.13092437, -0.28577736,\n",
              "          0.08238146, -0.21489237,  0.19505553, -0.10658678, -0.27693301,\n",
              "         -0.24013698, -0.30782962,  0.26164085, -0.32277834,  0.32263884,\n",
              "          0.06146641, -0.06125453, -0.32100996,  0.09845912,  0.08729291,\n",
              "         -0.34265009, -0.18574393, -0.26289314, -0.08126694, -0.11828163,\n",
              "         -0.10521819,  0.15823284, -0.15937917,  0.20078856, -0.21436444,\n",
              "          0.18525884, -0.00997262],\n",
              "        [ 0.17016929, -0.33530334,  0.5720734 , -0.11036614,  0.26005536,\n",
              "          0.63021338, -0.21984364,  0.15586203,  0.24155881,  0.45153794,\n",
              "          0.66650838,  0.16898219, -0.19299753, -0.28423494,  0.06565986,\n",
              "         -0.17698295,  0.22551182,  0.4560805 , -0.38985988,  0.05320776,\n",
              "         -0.03031705,  0.03303786, -0.10267868,  0.09674571,  0.20863932,\n",
              "          0.40641576, -0.19950488, -0.12717701, -0.45470032,  0.5555678 ,\n",
              "          0.43399239, -0.28200743],\n",
              "        [-0.31182763, -0.14840369, -0.32003853, -0.1944935 , -0.30310264,\n",
              "          0.00804722, -0.131934  , -0.16671041, -0.30733803,  0.29831067,\n",
              "          0.21912673, -0.32854858,  0.2708981 ,  0.08126371, -0.11880381,\n",
              "         -0.09630032, -0.11044759, -0.2071186 ,  0.14548047,  0.3437784 ,\n",
              "          0.11400195,  0.08041922, -0.08599925, -0.32868168,  0.04396215,\n",
              "          0.27437201,  0.27707389,  0.25461951, -0.02398746, -0.07973924,\n",
              "          0.10379016, -0.1016148 ],\n",
              "        [ 0.06183511,  0.13754135, -0.14945416, -0.32213345, -0.16256084,\n",
              "          0.08241963, -0.19906548,  0.05490912, -0.2213712 , -0.0496162 ,\n",
              "         -0.13229065, -0.29842815, -0.300704  , -0.27467173,  0.2398017 ,\n",
              "          0.35232079, -0.08191369,  0.19916396,  0.24313134,  0.02212684,\n",
              "         -0.24171938,  0.0121428 ,  0.30573049,  0.04220042,  0.25314733,\n",
              "         -0.34841883, -0.0346002 ,  0.16545378,  0.01286912,  0.34340069,\n",
              "         -0.00689168, -0.08564182],\n",
              "        [-0.20235111,  0.0225154 ,  0.34031099, -0.05019691,  0.09740504,\n",
              "          0.26879579, -0.23417027, -0.24146383,  0.18816547,  0.09979913,\n",
              "          0.35134175, -0.17725734, -0.01535286,  0.27368823, -0.27873737,\n",
              "          0.09955252, -0.07511313,  0.50303334,  0.19528468,  0.13374521,\n",
              "          0.25183877, -0.10118014, -0.28176242,  0.33339113, -0.28240824,\n",
              "          0.29094845,  0.21905972,  0.05767601, -0.13956711,  0.40815154,\n",
              "          0.3121247 , -0.05011176],\n",
              "        [-0.14970809,  0.24495275,  0.1047416 , -0.09729525,  0.14872137,\n",
              "         -0.26453623, -0.23264726, -0.25778905, -0.03002889, -0.18532023,\n",
              "          0.23062307, -0.35832223,  0.01431278, -0.15617844, -0.13508339,\n",
              "          0.05614368,  0.24606517,  0.17838511,  0.29530466, -0.00831848,\n",
              "          0.08646956,  0.18879111, -0.14868978,  0.1006019 , -0.08833759,\n",
              "          0.37370208, -0.34140989,  0.14407314,  0.39126319, -0.03222291,\n",
              "          0.0908955 , -0.29631507],\n",
              "        [ 0.01909383,  0.04873857,  0.33499172, -0.07754555,  0.5759207 ,\n",
              "          0.37300068,  0.33012795,  0.2734147 ,  0.58095533,  0.68693936,\n",
              "          0.58154178,  0.14178161,  0.32710826,  0.16182107, -0.14604762,\n",
              "         -0.06305101,  0.55986536,  0.20719233, -0.64900148,  0.25428051,\n",
              "         -0.10862546, -0.26342231,  0.16468994,  0.33343408, -0.09155385,\n",
              "          0.43022513,  0.10432567,  0.11050339, -0.63819271,  0.49636003,\n",
              "          0.38338685,  0.17858429],\n",
              "        [-0.02729988,  0.34721547, -0.21079868, -0.32899478,  0.23637503,\n",
              "          0.18560682, -0.18393975, -0.18574759, -0.32932061,  0.09924154,\n",
              "         -0.07376287, -0.05487867,  0.30748746,  0.14141093, -0.32977217,\n",
              "         -0.31329203, -0.12802921, -0.30797395, -0.16787358, -0.1242087 ,\n",
              "          0.04563713, -0.28599206,  0.15355796,  0.04518862,  0.23328239,\n",
              "         -0.13923004, -0.17843686, -0.31587076,  0.00355497,  0.01324073,\n",
              "         -0.07826556, -0.09502369],\n",
              "        [ 0.22787595,  0.29349273, -0.22358777,  0.14266489, -0.31032324,\n",
              "         -0.09297553, -0.028287  , -0.26012093,  0.14716752,  0.25762901,\n",
              "         -0.15498133,  0.00159998,  0.18281031, -0.3297452 , -0.22841193,\n",
              "          0.31760746,  0.03636422, -0.24072249,  0.08338118,  0.05926563,\n",
              "         -0.1122623 , -0.32774928, -0.16838694, -0.18784595, -0.09553957,\n",
              "         -0.16488467, -0.29022321,  0.16776364,  0.04764381, -0.02386055,\n",
              "         -0.24039805,  0.26965225],\n",
              "        [-0.05421547, -0.06224913, -0.31464729,  0.20289262, -0.26375791,\n",
              "         -0.37074456,  0.08380745,  0.16367063, -0.34921181, -0.20677088,\n",
              "         -0.0143941 , -0.14955333,  0.18997188,  0.17953594,  0.30116633,\n",
              "         -0.21793333, -0.49435574, -0.0351067 ,  0.33743536, -0.30101001,\n",
              "          0.25456139,  0.24242593, -0.29679638, -0.32800341,  0.29541034,\n",
              "         -0.29486042,  0.06201031, -0.18276514,  0.3591865 ,  0.16050486,\n",
              "         -0.37324753, -0.10707548],\n",
              "        [-0.25576997,  0.34670419,  0.29506204,  0.00259772,  0.34097403,\n",
              "         -0.17666328,  0.09437881,  0.06288685,  0.18411164, -0.02436141,\n",
              "          0.04082643, -0.16819176,  0.27843684,  0.09865823, -0.04884493,\n",
              "          0.05584542, -0.06600945,  0.16963634,  0.28526145,  0.24605912,\n",
              "          0.08081295,  0.05591917,  0.20442094, -0.2335003 , -0.26189905,\n",
              "          0.33412698, -0.30014336,  0.16511357, -0.07780965, -0.14503644,\n",
              "          0.18019269, -0.07795009],\n",
              "        [ 0.09180616,  0.15584737, -0.15688387, -0.2633518 ,  0.15649781,\n",
              "          0.11987493, -0.28943092, -0.08874085, -0.28777379, -0.14263831,\n",
              "         -0.37739497,  0.22047633,  0.22450058, -0.10919056, -0.27471218,\n",
              "         -0.12555815,  0.15841003,  0.09850772,  0.61546797, -0.10306536,\n",
              "         -0.0136737 ,  0.12682648, -0.15664555, -0.35586554,  0.31336641,\n",
              "          0.29903847,  0.03693908, -0.32724696,  0.28902718, -0.18594679,\n",
              "         -0.39918312, -0.34144619],\n",
              "        [-0.35355014,  0.26790366,  0.64297116, -0.01155495,  0.4952946 ,\n",
              "          0.56661755, -0.14902067, -0.25349453,  0.42268938,  0.18132725,\n",
              "          0.46608654,  0.17817868, -0.08893404,  0.1036597 , -0.35016462,\n",
              "          0.00542375,  0.00249961,  0.4134478 , -0.09287677, -0.23513836,\n",
              "         -0.38861093, -0.23494716, -0.10182571,  0.65702468,  0.03479677,\n",
              "         -0.00379919, -0.07917044, -0.20299289, -0.43907312,  0.62640876,\n",
              "          0.65353787,  0.15301101],\n",
              "        [-0.1326174 , -0.14158516, -0.05788901, -0.16881312, -0.01385649,\n",
              "          0.03723606,  0.09809472,  0.19997895, -0.20865795,  0.2998676 ,\n",
              "         -0.18332051, -0.03264695, -0.17541637, -0.29058254,  0.24476171,\n",
              "         -0.04817909,  0.11160628,  0.27544469,  0.27050838,  0.31809393,\n",
              "          0.24111128, -0.25677165, -0.26000267, -0.25111404, -0.02032884,\n",
              "          0.17515239,  0.16100585,  0.3434909 , -0.07243025,  0.28695205,\n",
              "         -0.25773871, -0.03327911],\n",
              "        [-0.20399271,  0.16224648, -0.20741509, -0.10722972, -0.35120893,\n",
              "         -0.40945521, -0.015903  ,  0.20118865, -0.01396851, -0.16471729,\n",
              "         -0.38221011, -0.16657056, -0.05939792, -0.16332485,  0.28526324,\n",
              "         -0.26584581, -0.38108489, -0.35284299,  0.44374681,  0.17264162,\n",
              "          0.19153227, -0.2176013 , -0.05073311, -0.22471267, -0.33219528,\n",
              "         -0.1644147 ,  0.25175121, -0.20133238,  0.31328976, -0.06911985,\n",
              "         -0.22218835, -0.0961314 ],\n",
              "        [-0.23766688, -0.28162447, -0.0418895 ,  0.15820318, -0.04171183,\n",
              "          0.32493916, -0.16480827,  0.07182733,  0.07949116,  0.27177209,\n",
              "          0.08987289, -0.19803207, -0.20117016,  0.04912793, -0.2984277 ,\n",
              "         -0.07806439,  0.24703656, -0.29776284,  0.25377566, -0.35613036,\n",
              "          0.54648626, -0.31083006, -0.10712207,  0.194795  ,  0.07477053,\n",
              "         -0.26500338, -0.26904857, -0.09847876,  0.2137872 , -0.32672256,\n",
              "          0.20285016, -0.27029315]], dtype=float32),\n",
              " array([ 0.        , -0.0353566 ,  0.15845792, -0.02182444,  0.15326779,\n",
              "         0.13648668,  0.        , -0.09910487,  0.12002168,  0.06610067,\n",
              "         0.0821787 , -0.01089142, -0.00353345, -0.01393286, -0.02681207,\n",
              "        -0.0005116 ,  0.08223103,  0.16984959,  0.13732612, -0.00499463,\n",
              "         0.10528738,  0.        ,  0.        ,  0.10061042, -0.01535971,\n",
              "         0.06933066, -0.02761294, -0.0005116 ,  0.16029432,  0.13847825,\n",
              "         0.12299038,  0.        ], dtype=float32),\n",
              " array([[-0.16389063,  0.38667735],\n",
              "        [-0.00852075, -0.38989428],\n",
              "        [ 0.52292585, -0.61731607],\n",
              "        [ 0.30819824, -0.11042283],\n",
              "        [ 0.08631014, -0.64174998],\n",
              "        [ 0.67267013, -0.67943281],\n",
              "        [ 0.31509909,  0.17057505],\n",
              "        [ 0.07194477, -0.13460469],\n",
              "        [ 0.20532571, -0.74169219],\n",
              "        [ 0.49102944, -0.37470841],\n",
              "        [ 0.70963132, -0.44804388],\n",
              "        [ 0.08322205,  0.24952687],\n",
              "        [-0.05576908, -0.2816318 ],\n",
              "        [-0.12291811,  0.18271691],\n",
              "        [ 0.36846623, -0.30589214],\n",
              "        [-0.10245264,  0.4019056 ],\n",
              "        [ 0.58062744, -0.47862363],\n",
              "        [ 0.25699303, -0.46828336],\n",
              "        [-0.04142442,  0.5261302 ],\n",
              "        [ 0.32674465,  0.34512082],\n",
              "        [-0.67921579,  0.17416315],\n",
              "        [ 0.06968593,  0.06994438],\n",
              "        [-0.04084613, -0.38771692],\n",
              "        [ 0.48274121, -0.41425401],\n",
              "        [ 0.23731484, -0.29605931],\n",
              "        [ 0.3326996 , -0.16685621],\n",
              "        [ 0.10306972, -0.18045028],\n",
              "        [-0.25480118,  0.10807615],\n",
              "        [-0.27306184,  0.56821913],\n",
              "        [ 0.26719874, -0.64521414],\n",
              "        [ 0.40959126, -0.33349776],\n",
              "        [-0.25054461,  0.07801859]], dtype=float32),\n",
              " array([-0.08852487,  0.08852487], dtype=float32)]"
            ]
          },
          "execution_count": 99,
          "metadata": {},
          "output_type": "execute_result"
        }
      ],
      "source": [
        "new_model.get_weights()"
      ]
    },
    {
      "cell_type": "code",
      "execution_count": null,
      "metadata": {
        "id": "ndVYmtB1FZTf",
        "outputId": "8ad08546-5835-42bd-dcc4-fbd4c5511c61"
      },
      "outputs": [
        {
          "data": {
            "text/plain": [
              "<keras.optimizers.Adam at 0x7fdf399795c0>"
            ]
          },
          "execution_count": 100,
          "metadata": {},
          "output_type": "execute_result"
        }
      ],
      "source": [
        "new_model.optimizer"
      ]
    },
    {
      "cell_type": "markdown",
      "metadata": {
        "id": "yjTrbSXAFZTg"
      },
      "source": [
        "## 2. model.to_json()"
      ]
    },
    {
      "cell_type": "markdown",
      "metadata": {
        "id": "MpeCLbnjFZTg"
      },
      "source": [
        "If you only need to save the architecture of a model, and not its weights or its training configuration, you can use the following function to save the architecture only."
      ]
    },
    {
      "cell_type": "code",
      "execution_count": null,
      "metadata": {
        "collapsed": true,
        "id": "H2MywU6UFZTg"
      },
      "outputs": [],
      "source": [
        "# save as JSON\n",
        "json_string = model.to_json()\n",
        "\n",
        "# save as YAML\n",
        "# yaml_string = model.to_yaml()"
      ]
    },
    {
      "cell_type": "code",
      "execution_count": null,
      "metadata": {
        "id": "qzf1JwJEFZTh",
        "outputId": "c54fd651-c7dd-4f02-da95-03eb0027625f"
      },
      "outputs": [
        {
          "data": {
            "text/plain": [
              "'{\"backend\": \"theano\", \"keras_version\": \"2.0.6\", \"config\": [{\"config\": {\"use_bias\": true, \"dtype\": \"float32\", \"kernel_regularizer\": null, \"bias_regularizer\": null, \"activation\": \"relu\", \"batch_input_shape\": [null, 1], \"kernel_initializer\": {\"config\": {\"mode\": \"fan_avg\", \"seed\": null, \"scale\": 1.0, \"distribution\": \"uniform\"}, \"class_name\": \"VarianceScaling\"}, \"trainable\": true, \"bias_constraint\": null, \"bias_initializer\": {\"config\": {}, \"class_name\": \"Zeros\"}, \"activity_regularizer\": null, \"kernel_constraint\": null, \"units\": 16, \"name\": \"dense_7\"}, \"class_name\": \"Dense\"}, {\"config\": {\"use_bias\": true, \"kernel_regularizer\": null, \"bias_regularizer\": null, \"activation\": \"relu\", \"kernel_initializer\": {\"config\": {\"mode\": \"fan_avg\", \"seed\": null, \"scale\": 1.0, \"distribution\": \"uniform\"}, \"class_name\": \"VarianceScaling\"}, \"trainable\": true, \"bias_constraint\": null, \"bias_initializer\": {\"config\": {}, \"class_name\": \"Zeros\"}, \"activity_regularizer\": null, \"name\": \"dense_8\", \"units\": 32, \"kernel_constraint\": null}, \"class_name\": \"Dense\"}, {\"config\": {\"use_bias\": true, \"kernel_regularizer\": null, \"bias_regularizer\": null, \"activation\": \"softmax\", \"kernel_initializer\": {\"config\": {\"mode\": \"fan_avg\", \"seed\": null, \"scale\": 1.0, \"distribution\": \"uniform\"}, \"class_name\": \"VarianceScaling\"}, \"trainable\": true, \"bias_constraint\": null, \"bias_initializer\": {\"config\": {}, \"class_name\": \"Zeros\"}, \"activity_regularizer\": null, \"name\": \"dense_9\", \"units\": 2, \"kernel_constraint\": null}, \"class_name\": \"Dense\"}], \"class_name\": \"Sequential\"}'"
            ]
          },
          "execution_count": 101,
          "metadata": {},
          "output_type": "execute_result"
        }
      ],
      "source": [
        "json_string"
      ]
    },
    {
      "cell_type": "code",
      "execution_count": null,
      "metadata": {
        "collapsed": true,
        "id": "V0taFYLxFZTh"
      },
      "outputs": [],
      "source": [
        "# model reconstruction from JSON:\n",
        "from keras.models import model_from_json\n",
        "model_architecture = model_from_json(json_string)\n",
        "\n",
        "# model reconstruction from YAML\n",
        "# from keras.models import model_from_yaml\n",
        "# model = model_from_yaml(yaml_string)"
      ]
    },
    {
      "cell_type": "code",
      "execution_count": null,
      "metadata": {
        "id": "edbk2LGKFZTh",
        "outputId": "7f2e4d14-6706-4148-842d-a816a3a30c58"
      },
      "outputs": [
        {
          "name": "stdout",
          "output_type": "stream",
          "text": [
            "_________________________________________________________________\n",
            "Layer (type)                 Output Shape              Param #   \n",
            "=================================================================\n",
            "dense_7 (Dense)              (None, 16)                32        \n",
            "_________________________________________________________________\n",
            "dense_8 (Dense)              (None, 32)                544       \n",
            "_________________________________________________________________\n",
            "dense_9 (Dense)              (None, 2)                 66        \n",
            "=================================================================\n",
            "Total params: 642\n",
            "Trainable params: 642\n",
            "Non-trainable params: 0\n",
            "_________________________________________________________________\n"
          ]
        }
      ],
      "source": [
        "model_architecture.summary()"
      ]
    },
    {
      "cell_type": "markdown",
      "metadata": {
        "id": "GxT6a9NUFZTh"
      },
      "source": [
        "## 3. model.save_weights()"
      ]
    },
    {
      "cell_type": "markdown",
      "metadata": {
        "id": "6amvcNHWFZTh"
      },
      "source": [
        "If you only need to save the weights of a model, you can use the following function save the weights only."
      ]
    },
    {
      "cell_type": "code",
      "execution_count": null,
      "metadata": {
        "collapsed": true,
        "id": "fxJS9xNlFZTi"
      },
      "outputs": [],
      "source": [
        "model.save_weights('my_model_weights.h5')"
      ]
    },
    {
      "cell_type": "code",
      "execution_count": null,
      "metadata": {
        "collapsed": true,
        "id": "x6uFKuVDFZTi"
      },
      "outputs": [],
      "source": [
        "model2 = Sequential([\n",
        "    Dense(16, input_shape=(1,), activation='relu'),\n",
        "    Dense(32, activation='relu'),\n",
        "    Dense(2, activation='softmax')\n",
        "])"
      ]
    },
    {
      "cell_type": "code",
      "execution_count": null,
      "metadata": {
        "collapsed": true,
        "id": "V9MJDHp7FZTi"
      },
      "outputs": [],
      "source": [
        "model2.load_weights('my_model_weights.h5')"
      ]
    },
    {
      "cell_type": "code",
      "execution_count": null,
      "metadata": {
        "collapsed": true,
        "id": "3dY93x17FZTi"
      },
      "outputs": [],
      "source": []
    },
    {
      "cell_type": "code",
      "execution_count": null,
      "metadata": {
        "collapsed": true,
        "id": "4ZhJZNFeFZTi"
      },
      "outputs": [],
      "source": []
    },
    {
      "cell_type": "code",
      "execution_count": null,
      "metadata": {
        "collapsed": true,
        "id": "GasJpZzJFZTj"
      },
      "outputs": [],
      "source": []
    },
    {
      "cell_type": "markdown",
      "metadata": {
        "collapsed": true,
        "id": "A_WYM2iyFZTj"
      },
      "source": [
        "## Preprocess Test Data"
      ]
    },
    {
      "cell_type": "code",
      "execution_count": 17,
      "metadata": {
        "collapsed": true,
        "id": "96WpX_72FZTr"
      },
      "outputs": [],
      "source": [
        "test_labels =  []\n",
        "test_samples = []"
      ]
    },
    {
      "cell_type": "code",
      "execution_count": 18,
      "metadata": {
        "id": "2UxVsjBDFZTr"
      },
      "outputs": [],
      "source": [
        "for i in range(10):\n",
        "    # The 5% of younger individuals who did experience side effects\n",
        "    random_younger = randint(13,64)\n",
        "    test_samples.append(random_younger)\n",
        "    test_labels.append(1)\n",
        "\n",
        "    # The 5% of older individuals who did not experience side effects\n",
        "    random_older = randint(65,100)\n",
        "    test_samples.append(random_older)\n",
        "    test_labels.append(0)\n",
        "\n",
        "for i in range(200):\n",
        "    # The 95% of younger individuals who did not experience side effects\n",
        "    random_younger = randint(13,64)\n",
        "    test_samples.append(random_younger)\n",
        "    test_labels.append(0)\n",
        "\n",
        "    # The 95% of older individuals who did experience side effects\n",
        "    random_older = randint(65,100)\n",
        "    test_samples.append(random_older)\n",
        "    test_labels.append(1)"
      ]
    },
    {
      "cell_type": "code",
      "execution_count": 19,
      "metadata": {
        "collapsed": true,
        "id": "KY_jgyJKFZTr"
      },
      "outputs": [],
      "source": [
        "test_labels = np.array(test_labels)\n",
        "test_samples = np.array(test_samples)"
      ]
    },
    {
      "cell_type": "code",
      "execution_count": 20,
      "metadata": {
        "id": "3yV7Y93BFZTs"
      },
      "outputs": [],
      "source": [
        "scaler = MinMaxScaler(feature_range=(0,1))\n",
        "scaled_test_samples = scaler.fit_transform((test_samples).reshape(-1,1))"
      ]
    },
    {
      "cell_type": "markdown",
      "metadata": {
        "collapsed": true,
        "id": "3HrLqvsnFZTs"
      },
      "source": [
        "## Predict"
      ]
    },
    {
      "cell_type": "code",
      "execution_count": 21,
      "metadata": {
        "id": "DQ__DGuUFZTs"
      },
      "outputs": [],
      "source": [
        "predictions = model.predict(scaled_test_samples, batch_size=10, verbose=0)"
      ]
    },
    {
      "cell_type": "code",
      "execution_count": null,
      "metadata": {
        "id": "q_XhiLr2FZTs",
        "outputId": "2a082114-0858-4304-ee8a-633f4e5c99c3"
      },
      "outputs": [
        {
          "name": "stdout",
          "output_type": "stream",
          "text": [
            "[ 0.7410683  0.2589317]\n",
            "[ 0.14958295  0.85041702]\n",
            "[ 0.96918124  0.03081879]\n",
            "[ 0.12985019  0.87014979]\n",
            "[ 0.88596725  0.11403273]\n",
            "[ 0.27972952  0.72027051]\n",
            "[ 0.97202832  0.02797166]\n",
            "[ 0.13397652  0.86602348]\n",
            "[ 0.96605438  0.03394562]\n",
            "[ 0.11411262  0.88588738]\n",
            "[ 0.97461933  0.02538065]\n",
            "[ 0.11597294  0.88402706]\n",
            "[ 0.53810829  0.46189171]\n",
            "[ 0.11046991  0.88953006]\n",
            "[ 0.92053664  0.07946334]\n",
            "[ 0.41420627  0.58579373]\n",
            "[ 0.53810829  0.46189171]\n",
            "[ 0.09690166  0.90309834]\n",
            "[ 0.94527358  0.05472645]\n",
            "[ 0.11227837  0.88772166]\n",
            "[ 0.97461933  0.02538065]\n",
            "[ 0.41420627  0.58579373]\n",
            "[ 0.98343712  0.01656286]\n",
            "[ 0.22349688  0.77650309]\n",
            "[ 0.97874761  0.02125239]\n",
            "[ 0.11227837  0.88772166]\n",
            "[ 0.98343712  0.01656286]\n",
            "[ 0.10692947  0.89307052]\n",
            "[ 0.95885855  0.04114145]\n",
            "[ 0.12674139  0.87325859]\n",
            "[ 0.51321256  0.48678744]\n",
            "[ 0.10180613  0.8981939 ]\n",
            "[ 0.96605438  0.03394562]\n",
            "[ 0.30028591  0.69971412]\n",
            "[ 0.98595065  0.01404935]\n",
            "[ 0.10868704  0.89131296]\n",
            "[ 0.48825112  0.51174885]\n",
            "[ 0.22349688  0.77650309]\n",
            "[ 0.89567453  0.10432549]\n",
            "[ 0.12985019  0.87014979]\n",
            "[ 0.89567453  0.10432549]\n",
            "[ 0.13397652  0.86602348]\n",
            "[ 0.97874761  0.02125239]\n",
            "[ 0.36671475  0.63328528]\n",
            "[ 0.96262252  0.03737745]\n",
            "[ 0.12674139  0.87325859]\n",
            "[ 0.96605438  0.03394562]\n",
            "[ 0.11411262  0.88588738]\n",
            "[ 0.63464487  0.36535516]\n",
            "[ 0.34384555  0.65615445]\n",
            "[ 0.65747505  0.34252495]\n",
            "[ 0.12217253  0.87782747]\n",
            "[ 0.70094359  0.29905638]\n",
            "[ 0.36671475  0.63328528]\n",
            "[ 0.96918124  0.03081879]\n",
            "[ 0.11798808  0.88201195]\n",
            "[ 0.97874761  0.02125239]\n",
            "[ 0.10519696  0.89480305]\n",
            "[ 0.95885855  0.04114145]\n",
            "[ 0.11798808  0.88201195]\n",
            "[ 0.95021594  0.04978407]\n",
            "[ 0.17580917  0.82419086]\n",
            "[ 0.91291791  0.08708212]\n",
            "[ 0.10180613  0.8981939 ]\n",
            "[ 0.95021594  0.04978407]\n",
            "[ 0.19075122  0.80924881]\n",
            "[ 0.96918124  0.03081879]\n",
            "[ 0.12006459  0.87993544]\n",
            "[ 0.89567453  0.10432549]\n",
            "[ 0.20664477  0.79335523]\n",
            "[ 0.97697604  0.02302396]\n",
            "[ 0.27972952  0.72027051]\n",
            "[ 0.87548238  0.12451764]\n",
            "[ 0.11227837  0.88772166]\n",
            "[ 0.95473331  0.04526669]\n",
            "[ 0.10519696  0.89480305]\n",
            "[ 0.96605438  0.03394562]\n",
            "[ 0.30028591  0.69971412]\n",
            "[ 0.83898944  0.16101058]\n",
            "[ 0.10180613  0.8981939 ]\n",
            "[ 0.67959881  0.32040116]\n",
            "[ 0.24130528  0.75869471]\n",
            "[ 0.7410683  0.2589317]\n",
            "[ 0.11227837  0.88772166]\n",
            "[ 0.88596725  0.11403273]\n",
            "[ 0.36671475  0.63328528]\n",
            "[ 0.98414063  0.01585935]\n",
            "[ 0.10519696  0.89480305]\n",
            "[ 0.46334821  0.53665179]\n",
            "[ 0.14028686  0.85971314]\n",
            "[ 0.83898944  0.16101058]\n",
            "[ 0.11411262  0.88588738]\n",
            "[ 0.72144932  0.27855071]\n",
            "[ 0.27972952  0.72027051]\n",
            "[ 0.93987161  0.0601284 ]\n",
            "[ 0.10692947  0.89307052]\n",
            "[ 0.53810829  0.46189171]\n",
            "[ 0.10180613  0.8981939 ]\n",
            "[ 0.61119276  0.38880724]\n",
            "[ 0.11046991  0.88953006]\n",
            "[ 0.96262252  0.03737745]\n",
            "[ 0.10519696  0.89480305]\n",
            "[ 0.95885855  0.04114145]\n",
            "[ 0.24130528  0.75869471]\n",
            "[ 0.93987161  0.0601284 ]\n",
            "[ 0.34384555  0.65615445]\n",
            "[ 0.96262252  0.03737745]\n",
            "[ 0.0985126   0.90148741]\n",
            "[ 0.83898944  0.16101058]\n",
            "[ 0.09531429  0.90468574]\n",
            "[ 0.85202777  0.14797221]\n",
            "[ 0.10180613  0.8981939 ]\n",
            "[ 0.93987161  0.0601284 ]\n",
            "[ 0.11597294  0.88402706]\n",
            "[ 0.97697604  0.02302396]\n",
            "[ 0.10519696  0.89480305]\n",
            "[ 0.43862674  0.56137329]\n",
            "[ 0.10692947  0.89307052]\n",
            "[ 0.43862674  0.56137329]\n",
            "[ 0.11411262  0.88588738]\n",
            "[ 0.79431409  0.20568593]\n",
            "[ 0.11046991  0.88953006]\n",
            "[ 0.63464487  0.36535516]\n",
            "[ 0.3216781  0.6783219]\n",
            "[ 0.92754179  0.07245822]\n",
            "[ 0.41420627  0.58579373]\n",
            "[ 0.72144932  0.27855071]\n",
            "[ 0.10519696  0.89480305]\n",
            "[ 0.93397367  0.06602635]\n",
            "[ 0.0985126   0.90148741]\n",
            "[ 0.98540163  0.01459837]\n",
            "[ 0.19075122  0.80924881]\n",
            "[ 0.91291791  0.08708212]\n",
            "[ 0.22349688  0.77650309]\n",
            "[ 0.98540163  0.01459837]\n",
            "[ 0.30028591  0.69971412]\n",
            "[ 0.56281531  0.43718472]\n",
            "[ 0.11798808  0.88201195]\n",
            "[ 0.98540163  0.01459837]\n",
            "[ 0.3216781  0.6783219]\n",
            "[ 0.88596725  0.11403273]\n",
            "[ 0.09690166  0.90309834]\n",
            "[ 0.82503814  0.17496185]\n",
            "[ 0.12217253  0.87782747]\n",
            "[ 0.98481476  0.01518524]\n",
            "[ 0.41420627  0.58579373]\n",
            "[ 0.67959881  0.32040116]\n",
            "[ 0.10868704  0.89131296]\n",
            "[ 0.95021594  0.04978407]\n",
            "[ 0.39020029  0.60979974]\n",
            "[ 0.86418122  0.13581876]\n",
            "[ 0.3216781  0.6783219]\n",
            "[ 0.86418122  0.13581876]\n",
            "[ 0.17580917  0.82419086]\n",
            "[ 0.70094359  0.29905638]\n",
            "[ 0.09531429  0.90468574]\n",
            "[ 0.58721459  0.41278541]\n",
            "[ 0.20664477  0.79335523]\n",
            "[ 0.98343712  0.01656286]\n",
            "[ 0.30028591  0.69971412]\n",
            "[ 0.92754179  0.07245822]\n",
            "[ 0.12006459  0.87993544]\n",
            "[ 0.93987161  0.0601284 ]\n",
            "[ 0.09531429  0.90468574]\n",
            "[ 0.58721459  0.41278541]\n",
            "[ 0.12985019  0.87014979]\n",
            "[ 0.97697604  0.02302396]\n",
            "[ 0.27972952  0.72027051]\n",
            "[ 0.61119276  0.38880724]\n",
            "[ 0.13397652  0.86602348]\n",
            "[ 0.98595065  0.01404935]\n",
            "[ 0.36671475  0.63328528]\n",
            "[ 0.98077482  0.01922515]\n",
            "[ 0.19075122  0.80924881]\n",
            "[ 0.90464431  0.0953557 ]\n",
            "[ 0.11597294  0.88402706]\n",
            "[ 0.82503814  0.17496185]\n",
            "[ 0.12217253  0.87782747]\n",
            "[ 0.77751815  0.22248183]\n",
            "[ 0.09531429  0.90468574]\n",
            "[ 0.91291791  0.08708212]\n",
            "[ 0.26005745  0.73994255]\n",
            "[ 0.65747505  0.34252495]\n",
            "[ 0.24130528  0.75869471]\n",
            "[ 0.93987161  0.0601284 ]\n",
            "[ 0.10868704  0.89131296]\n",
            "[ 0.63464487  0.36535516]\n",
            "[ 0.39020029  0.60979974]\n",
            "[ 0.53810829  0.46189171]\n",
            "[ 0.27972952  0.72027051]\n",
            "[ 0.43862674  0.56137329]\n",
            "[ 0.26005745  0.73994255]\n",
            "[ 0.98343712  0.01656286]\n",
            "[ 0.10348926  0.89651072]\n",
            "[ 0.96262252  0.03737745]\n",
            "[ 0.27972952  0.72027051]\n",
            "[ 0.61119276  0.38880724]\n",
            "[ 0.11411262  0.88588738]\n",
            "[ 0.98595065  0.01404935]\n",
            "[ 0.12438267  0.87561733]\n",
            "[ 0.95885855  0.04114145]\n",
            "[ 0.3216781  0.6783219]\n",
            "[ 0.98540163  0.01459837]\n",
            "[ 0.30028591  0.69971412]\n",
            "[ 0.92754179  0.07245822]\n",
            "[ 0.24130528  0.75869471]\n",
            "[ 0.98540163  0.01459837]\n",
            "[ 0.12217253  0.87782747]\n",
            "[ 0.65747505  0.34252495]\n",
            "[ 0.14028686  0.85971314]\n",
            "[ 0.97202832  0.02797166]\n",
            "[ 0.12985019  0.87014979]\n",
            "[ 0.98647934  0.01352068]\n",
            "[ 0.10180613  0.8981939 ]\n",
            "[ 0.83898944  0.16101058]\n",
            "[ 0.27972952  0.72027051]\n",
            "[ 0.92754179  0.07245822]\n",
            "[ 0.12674139  0.87325859]\n",
            "[ 0.67959881  0.32040116]\n",
            "[ 0.12217253  0.87782747]\n",
            "[ 0.85202777  0.14797221]\n",
            "[ 0.27972952  0.72027051]\n",
            "[ 0.61119276  0.38880724]\n",
            "[ 0.20664477  0.79335523]\n",
            "[ 0.77751815  0.22248183]\n",
            "[ 0.13397652  0.86602348]\n",
            "[ 0.91291791  0.08708212]\n",
            "[ 0.16190827  0.83809173]\n",
            "[ 0.61119276  0.38880724]\n",
            "[ 0.24130528  0.75869471]\n",
            "[ 0.61119276  0.38880724]\n",
            "[ 0.27972952  0.72027051]\n",
            "[ 0.97697604  0.02302396]\n",
            "[ 0.14958295  0.85041702]\n",
            "[ 0.85202777  0.14797221]\n",
            "[ 0.10014733  0.89985269]\n",
            "[ 0.98261213  0.01738786]\n",
            "[ 0.17580917  0.82419086]\n",
            "[ 0.56281531  0.43718472]\n",
            "[ 0.13397652  0.86602348]\n",
            "[ 0.93987161  0.0601284 ]\n",
            "[ 0.12985019  0.87014979]\n",
            "[ 0.98540163  0.01459837]\n",
            "[ 0.10180613  0.8981939 ]\n",
            "[ 0.87548238  0.12451764]\n",
            "[ 0.12985019  0.87014979]\n",
            "[ 0.9797861  0.0202139]\n",
            "[ 0.27972952  0.72027051]\n",
            "[ 0.98343712  0.01656286]\n",
            "[ 0.11597294  0.88402706]\n",
            "[ 0.72144932  0.27855071]\n",
            "[ 0.41420627  0.58579373]\n",
            "[ 0.98343712  0.01656286]\n",
            "[ 0.10348926  0.89651072]\n",
            "[ 0.77751815  0.22248183]\n",
            "[ 0.41420627  0.58579373]\n",
            "[ 0.96605438  0.03394562]\n",
            "[ 0.26005745  0.73994255]\n",
            "[ 0.75976562  0.24023436]\n",
            "[ 0.11597294  0.88402706]\n",
            "[ 0.97461933  0.02538065]\n",
            "[ 0.12985019  0.87014979]\n",
            "[ 0.98540163  0.01459837]\n",
            "[ 0.09531429  0.90468574]\n",
            "[ 0.98171616  0.01828387]\n",
            "[ 0.24130528  0.75869471]\n",
            "[ 0.95473331  0.04526669]\n",
            "[ 0.20664477  0.79335523]\n",
            "[ 0.95885855  0.04114145]\n",
            "[ 0.24130528  0.75869471]\n",
            "[ 0.79431409  0.20568593]\n",
            "[ 0.10348926  0.89651072]\n",
            "[ 0.63464487  0.36535516]\n",
            "[ 0.09690166  0.90309834]\n",
            "[ 0.86418122  0.13581876]\n",
            "[ 0.10692947  0.89307052]\n",
            "[ 0.93987161  0.0601284 ]\n",
            "[ 0.11227837  0.88772166]\n",
            "[ 0.98077482  0.01922515]\n",
            "[ 0.16190827  0.83809173]\n",
            "[ 0.98647934  0.01352068]\n",
            "[ 0.12438267  0.87561733]\n",
            "[ 0.87548238  0.12451764]\n",
            "[ 0.10692947  0.89307052]\n",
            "[ 0.61119276  0.38880724]\n",
            "[ 0.16190827  0.83809173]\n",
            "[ 0.96262252  0.03737745]\n",
            "[ 0.12006459  0.87993544]\n",
            "[ 0.97874761  0.02125239]\n",
            "[ 0.12985019  0.87014979]\n",
            "[ 0.97874761  0.02125239]\n",
            "[ 0.10519696  0.89480305]\n",
            "[ 0.98481476  0.01518524]\n",
            "[ 0.12438267  0.87561733]\n",
            "[ 0.96605438  0.03394562]\n",
            "[ 0.10348926  0.89651072]\n",
            "[ 0.98595065  0.01404935]\n",
            "[ 0.3216781  0.6783219]\n",
            "[ 0.85202777  0.14797221]\n",
            "[ 0.10180613  0.8981939 ]\n",
            "[ 0.94527358  0.05472645]\n",
            "[ 0.10868704  0.89131296]\n",
            "[ 0.77751815  0.22248183]\n",
            "[ 0.16190827  0.83809173]\n",
            "[ 0.58721459  0.41278541]\n",
            "[ 0.19075122  0.80924881]\n",
            "[ 0.79431409  0.20568593]\n",
            "[ 0.10348926  0.89651072]\n",
            "[ 0.98414063  0.01585935]\n",
            "[ 0.19075122  0.80924881]\n",
            "[ 0.98077482  0.01922515]\n",
            "[ 0.34384555  0.65615445]\n",
            "[ 0.70094359  0.29905638]\n",
            "[ 0.39020029  0.60979974]\n",
            "[ 0.61119276  0.38880724]\n",
            "[ 0.24130528  0.75869471]\n",
            "[ 0.46334821  0.53665179]\n",
            "[ 0.10692947  0.89307052]\n",
            "[ 0.9797861  0.0202139]\n",
            "[ 0.10014733  0.89985269]\n",
            "[ 0.86418122  0.13581876]\n",
            "[ 0.10692947  0.89307052]\n",
            "[ 0.95473331  0.04526669]\n",
            "[ 0.10519696  0.89480305]\n",
            "[ 0.53810829  0.46189171]\n",
            "[ 0.12985019  0.87014979]\n",
            "[ 0.86418122  0.13581876]\n",
            "[ 0.10180613  0.8981939 ]\n",
            "[ 0.70094359  0.29905638]\n",
            "[ 0.17580917  0.82419086]\n",
            "[ 0.70094359  0.29905638]\n",
            "[ 0.36671475  0.63328528]\n",
            "[ 0.97874761  0.02125239]\n",
            "[ 0.20664477  0.79335523]\n",
            "[ 0.93397367  0.06602635]\n",
            "[ 0.13397652  0.86602348]\n",
            "[ 0.58721459  0.41278541]\n",
            "[ 0.36671475  0.63328528]\n",
            "[ 0.93987161  0.0601284 ]\n",
            "[ 0.11798808  0.88201195]\n",
            "[ 0.98343712  0.01656286]\n",
            "[ 0.12006459  0.87993544]\n",
            "[ 0.81015152  0.18984847]\n",
            "[ 0.10180613  0.8981939 ]\n",
            "[ 0.96262252  0.03737745]\n",
            "[ 0.11411262  0.88588738]\n",
            "[ 0.63464487  0.36535516]\n",
            "[ 0.11411262  0.88588738]\n",
            "[ 0.98595065  0.01404935]\n",
            "[ 0.10519696  0.89480305]\n",
            "[ 0.98540163  0.01459837]\n",
            "[ 0.19075122  0.80924881]\n",
            "[ 0.97874761  0.02125239]\n",
            "[ 0.34384555  0.65615445]\n",
            "[ 0.7410683  0.2589317]\n",
            "[ 0.11411262  0.88588738]\n",
            "[ 0.98171616  0.01828387]\n",
            "[ 0.14958295  0.85041702]\n",
            "[ 0.89567453  0.10432549]\n",
            "[ 0.24130528  0.75869471]\n",
            "[ 0.97874761  0.02125239]\n",
            "[ 0.14028686  0.85971314]\n",
            "[ 0.46334821  0.53665179]\n",
            "[ 0.16190827  0.83809173]\n",
            "[ 0.98261213  0.01738786]\n",
            "[ 0.12006459  0.87993544]\n",
            "[ 0.93397367  0.06602635]\n",
            "[ 0.12985019  0.87014979]\n",
            "[ 0.94527358  0.05472645]\n",
            "[ 0.10180613  0.8981939 ]\n",
            "[ 0.83898944  0.16101058]\n",
            "[ 0.20664477  0.79335523]\n",
            "[ 0.61119276  0.38880724]\n",
            "[ 0.10519696  0.89480305]\n",
            "[ 0.98481476  0.01518524]\n",
            "[ 0.11411262  0.88588738]\n",
            "[ 0.96605438  0.03394562]\n",
            "[ 0.34384555  0.65615445]\n",
            "[ 0.95473331  0.04526669]\n",
            "[ 0.12217253  0.87782747]\n",
            "[ 0.56281531  0.43718472]\n",
            "[ 0.12217253  0.87782747]\n",
            "[ 0.98595065  0.01404935]\n",
            "[ 0.09690166  0.90309834]\n",
            "[ 0.93397367  0.06602635]\n",
            "[ 0.11597294  0.88402706]\n",
            "[ 0.46334821  0.53665179]\n",
            "[ 0.34384555  0.65615445]\n",
            "[ 0.56281531  0.43718472]\n",
            "[ 0.39020029  0.60979974]\n",
            "[ 0.89567453  0.10432549]\n",
            "[ 0.12006459  0.87993544]\n",
            "[ 0.9797861  0.0202139]\n",
            "[ 0.12006459  0.87993544]\n",
            "[ 0.43862674  0.56137329]\n",
            "[ 0.11046991  0.88953006]\n",
            "[ 0.95885855  0.04114145]\n",
            "[ 0.12217253  0.87782747]\n",
            "[ 0.72144932  0.27855071]\n",
            "[ 0.41420627  0.58579373]\n",
            "[ 0.97874761  0.02125239]\n",
            "[ 0.13397652  0.86602348]\n",
            "[ 0.97697604  0.02302396]\n",
            "[ 0.10692947  0.89307052]\n",
            "[ 0.70094359  0.29905638]\n",
            "[ 0.12217253  0.87782747]\n",
            "[ 0.79431409  0.20568593]\n",
            "[ 0.0985126   0.90148741]\n",
            "[ 0.98171616  0.01828387]\n",
            "[ 0.11411262  0.88588738]\n",
            "[ 0.53810829  0.46189171]\n",
            "[ 0.30028591  0.69971412]\n",
            "[ 0.98481476  0.01518524]\n",
            "[ 0.11411262  0.88588738]\n",
            "[ 0.93397367  0.06602635]\n",
            "[ 0.10692947  0.89307052]\n",
            "[ 0.93987161  0.0601284 ]\n",
            "[ 0.10180613  0.8981939 ]\n",
            "[ 0.81015152  0.18984847]\n",
            "[ 0.12217253  0.87782747]\n"
          ]
        }
      ],
      "source": [
        "for i in predictions:\n",
        "    print(i)"
      ]
    },
    {
      "cell_type": "code",
      "execution_count": 26,
      "metadata": {
        "collapsed": true,
        "id": "vIpcsFnDFZTs"
      },
      "outputs": [],
      "source": [
        "predictions = model.predict(scaled_test_samples, batch_size=10, verbose=0)\n",
        "rounded_predictions = np.argmax(predictions, axis=1)"
      ]
    },
    {
      "cell_type": "code",
      "execution_count": 27,
      "metadata": {
        "colab": {
          "base_uri": "https://localhost:8080/"
        },
        "id": "kdwkanLiFZTs",
        "outputId": "c4ad0767-d5fd-441c-b8c6-5ab6ffbaa73b"
      },
      "outputs": [
        {
          "output_type": "stream",
          "name": "stdout",
          "text": [
            "0\n",
            "1\n",
            "0\n",
            "1\n",
            "0\n",
            "1\n",
            "0\n",
            "1\n",
            "0\n",
            "1\n",
            "0\n",
            "1\n",
            "0\n",
            "1\n",
            "0\n",
            "1\n",
            "0\n",
            "1\n",
            "0\n",
            "1\n",
            "0\n",
            "1\n",
            "0\n",
            "1\n",
            "0\n",
            "1\n",
            "0\n",
            "1\n",
            "0\n",
            "1\n",
            "0\n",
            "1\n",
            "0\n",
            "1\n",
            "0\n",
            "1\n",
            "0\n",
            "1\n",
            "0\n",
            "1\n",
            "0\n",
            "1\n",
            "0\n",
            "1\n",
            "0\n",
            "1\n",
            "0\n",
            "1\n",
            "0\n",
            "1\n",
            "0\n",
            "1\n",
            "0\n",
            "1\n",
            "0\n",
            "1\n",
            "0\n",
            "1\n",
            "0\n",
            "1\n",
            "0\n",
            "1\n",
            "0\n",
            "1\n",
            "0\n",
            "1\n",
            "0\n",
            "1\n",
            "0\n",
            "1\n",
            "0\n",
            "1\n",
            "0\n",
            "1\n",
            "0\n",
            "1\n",
            "0\n",
            "1\n",
            "0\n",
            "1\n",
            "0\n",
            "1\n",
            "0\n",
            "1\n",
            "0\n",
            "1\n",
            "0\n",
            "1\n",
            "0\n",
            "1\n",
            "0\n",
            "1\n",
            "0\n",
            "1\n",
            "0\n",
            "1\n",
            "0\n",
            "1\n",
            "0\n",
            "1\n",
            "0\n",
            "1\n",
            "0\n",
            "1\n",
            "0\n",
            "1\n",
            "0\n",
            "1\n",
            "0\n",
            "1\n",
            "0\n",
            "1\n",
            "0\n",
            "1\n",
            "0\n",
            "1\n",
            "0\n",
            "1\n",
            "0\n",
            "1\n",
            "0\n",
            "1\n",
            "0\n",
            "1\n",
            "0\n",
            "1\n",
            "0\n",
            "1\n",
            "0\n",
            "1\n",
            "0\n",
            "1\n",
            "0\n",
            "1\n",
            "0\n",
            "1\n",
            "0\n",
            "1\n",
            "0\n",
            "1\n",
            "0\n",
            "1\n",
            "0\n",
            "1\n",
            "0\n",
            "1\n",
            "0\n",
            "1\n",
            "0\n",
            "1\n",
            "0\n",
            "1\n",
            "0\n",
            "1\n",
            "0\n",
            "1\n",
            "0\n",
            "1\n",
            "0\n",
            "1\n",
            "0\n",
            "1\n",
            "0\n",
            "1\n",
            "0\n",
            "1\n",
            "0\n",
            "1\n",
            "0\n",
            "1\n",
            "0\n",
            "1\n",
            "0\n",
            "1\n",
            "0\n",
            "1\n",
            "0\n",
            "1\n",
            "0\n",
            "1\n",
            "0\n",
            "1\n",
            "0\n",
            "1\n",
            "0\n",
            "1\n",
            "0\n",
            "1\n",
            "0\n",
            "1\n",
            "0\n",
            "1\n",
            "0\n",
            "1\n",
            "0\n",
            "1\n",
            "0\n",
            "1\n",
            "0\n",
            "1\n",
            "0\n",
            "1\n",
            "0\n",
            "1\n",
            "0\n",
            "1\n",
            "0\n",
            "1\n",
            "0\n",
            "1\n",
            "0\n",
            "1\n",
            "0\n",
            "1\n",
            "0\n",
            "1\n",
            "0\n",
            "1\n",
            "0\n",
            "1\n",
            "0\n",
            "1\n",
            "0\n",
            "1\n",
            "0\n",
            "1\n",
            "0\n",
            "1\n",
            "0\n",
            "1\n",
            "0\n",
            "1\n",
            "0\n",
            "1\n",
            "0\n",
            "1\n",
            "0\n",
            "1\n",
            "0\n",
            "1\n",
            "0\n",
            "1\n",
            "0\n",
            "1\n",
            "0\n",
            "1\n",
            "0\n",
            "1\n",
            "0\n",
            "1\n",
            "0\n",
            "1\n",
            "0\n",
            "1\n",
            "0\n",
            "1\n",
            "0\n",
            "1\n",
            "0\n",
            "1\n",
            "0\n",
            "1\n",
            "0\n",
            "1\n",
            "0\n",
            "1\n",
            "0\n",
            "1\n",
            "0\n",
            "1\n",
            "0\n",
            "1\n",
            "0\n",
            "1\n",
            "0\n",
            "1\n",
            "0\n",
            "1\n",
            "0\n",
            "1\n",
            "0\n",
            "1\n",
            "0\n",
            "1\n",
            "0\n",
            "1\n",
            "0\n",
            "1\n",
            "0\n",
            "1\n",
            "0\n",
            "1\n",
            "0\n",
            "1\n",
            "0\n",
            "1\n",
            "0\n",
            "1\n",
            "0\n",
            "1\n",
            "0\n",
            "1\n",
            "0\n",
            "1\n",
            "0\n",
            "1\n",
            "0\n",
            "1\n",
            "0\n",
            "1\n",
            "0\n",
            "1\n",
            "0\n",
            "1\n",
            "0\n",
            "1\n",
            "0\n",
            "1\n",
            "0\n",
            "1\n",
            "0\n",
            "1\n",
            "0\n",
            "1\n",
            "0\n",
            "1\n",
            "0\n",
            "1\n",
            "0\n",
            "1\n",
            "0\n",
            "1\n",
            "0\n",
            "1\n",
            "0\n",
            "1\n",
            "0\n",
            "1\n",
            "0\n",
            "1\n",
            "0\n",
            "1\n",
            "0\n",
            "1\n",
            "0\n",
            "1\n",
            "0\n",
            "1\n",
            "0\n",
            "1\n",
            "0\n",
            "1\n",
            "0\n",
            "1\n",
            "0\n",
            "1\n",
            "0\n",
            "1\n",
            "0\n",
            "1\n",
            "0\n",
            "1\n",
            "0\n",
            "1\n",
            "0\n",
            "1\n",
            "0\n",
            "1\n",
            "0\n",
            "1\n",
            "0\n",
            "1\n",
            "0\n",
            "1\n",
            "0\n",
            "1\n",
            "0\n",
            "1\n",
            "0\n",
            "1\n",
            "0\n",
            "1\n",
            "0\n",
            "1\n",
            "0\n",
            "1\n",
            "0\n",
            "1\n",
            "0\n",
            "1\n",
            "0\n",
            "1\n",
            "0\n",
            "1\n",
            "0\n",
            "1\n",
            "0\n",
            "1\n",
            "0\n",
            "1\n",
            "0\n",
            "1\n",
            "0\n",
            "1\n",
            "0\n",
            "1\n",
            "0\n",
            "1\n",
            "0\n",
            "1\n",
            "0\n",
            "1\n",
            "0\n",
            "1\n",
            "0\n",
            "1\n",
            "0\n",
            "1\n",
            "0\n",
            "1\n"
          ]
        }
      ],
      "source": [
        "for i in rounded_predictions:\n",
        "    print(i)"
      ]
    },
    {
      "cell_type": "markdown",
      "metadata": {
        "id": "1tlkEGTgFZTt"
      },
      "source": [
        "## Confusion Matrix"
      ]
    },
    {
      "cell_type": "code",
      "execution_count": 28,
      "metadata": {
        "id": "5x8FCHNRFZTt"
      },
      "outputs": [],
      "source": [
        "%matplotlib inline\n",
        "from sklearn.metrics import confusion_matrix\n",
        "import itertools\n",
        "import matplotlib.pyplot as plt"
      ]
    },
    {
      "cell_type": "code",
      "execution_count": 29,
      "metadata": {
        "collapsed": true,
        "id": "9vBW_bt8FZTt"
      },
      "outputs": [],
      "source": [
        "cm = confusion_matrix(test_labels, rounded_predictions)"
      ]
    },
    {
      "cell_type": "code",
      "execution_count": 30,
      "metadata": {
        "collapsed": true,
        "id": "KH4pNv3IFZTt"
      },
      "outputs": [],
      "source": [
        "def plot_confusion_matrix(cm, classes,\n",
        "                          normalize=False,\n",
        "                          title='Confusion matrix',\n",
        "                          cmap=plt.cm.Blues):\n",
        "    \"\"\"\n",
        "    This function prints and plots the confusion matrix.\n",
        "    Normalization can be applied by setting `normalize=True`.\n",
        "    \"\"\"\n",
        "    plt.imshow(cm, interpolation='nearest', cmap=cmap)\n",
        "    plt.title(title)\n",
        "    plt.colorbar()\n",
        "    tick_marks = np.arange(len(classes))\n",
        "    plt.xticks(tick_marks, classes, rotation=45)\n",
        "    plt.yticks(tick_marks, classes)\n",
        "\n",
        "    if normalize:\n",
        "        cm = cm.astype('float') / cm.sum(axis=1)[:, np.newaxis]\n",
        "        print(\"Normalized confusion matrix\")\n",
        "    else:\n",
        "        print('Confusion matrix, without normalization')\n",
        "\n",
        "    print(cm)\n",
        "\n",
        "    thresh = cm.max() / 2.\n",
        "    for i, j in itertools.product(range(cm.shape[0]), range(cm.shape[1])):\n",
        "        plt.text(j, i, cm[i, j],\n",
        "                 horizontalalignment=\"center\",\n",
        "                 color=\"white\" if cm[i, j] > thresh else \"black\")\n",
        "\n",
        "    plt.tight_layout()\n",
        "    plt.ylabel('True label')\n",
        "    plt.xlabel('Predicted label')"
      ]
    },
    {
      "cell_type": "code",
      "execution_count": 31,
      "metadata": {
        "colab": {
          "base_uri": "https://localhost:8080/",
          "height": 565
        },
        "id": "wXamBJI4FZTu",
        "outputId": "2f131832-bdc1-42e9-d3cc-4c30bed11482"
      },
      "outputs": [
        {
          "output_type": "stream",
          "name": "stdout",
          "text": [
            "Confusion matrix, without normalization\n",
            "[[200  10]\n",
            " [ 10 200]]\n"
          ]
        },
        {
          "output_type": "display_data",
          "data": {
            "text/plain": [
              "<Figure size 640x480 with 2 Axes>"
            ],
            "image/png": "[encoded data removed]"
          },
          "metadata": {}
        }
      ],
      "source": [
        "cm_plot_labels = ['no_side_effects','had_side_effects']\n",
        "plot_confusion_matrix(cm, cm_plot_labels, title='Confusion Matrix')"
      ]
    },
    {
      "cell_type": "code",
      "execution_count": null,
      "metadata": {
        "collapsed": true,
        "id": "UgyWHTC6FZTu"
      },
      "outputs": [],
      "source": []
    },
    {
      "cell_type": "code",
      "execution_count": null,
      "metadata": {
        "collapsed": true,
        "id": "tiWaaJ8YFZTv"
      },
      "outputs": [],
      "source": []
    },
    {
      "cell_type": "code",
      "execution_count": null,
      "metadata": {
        "collapsed": true,
        "id": "9PYyLio1FZTv"
      },
      "outputs": [],
      "source": []
    },
    {
      "cell_type": "code",
      "execution_count": null,
      "metadata": {
        "collapsed": true,
        "id": "736cDLFrFZTv"
      },
      "outputs": [],
      "source": []
    },
    {
      "cell_type": "code",
      "execution_count": null,
      "metadata": {
        "collapsed": true,
        "id": "_nW21UxyFZTv"
      },
      "outputs": [],
      "source": []
    },
    {
      "cell_type": "code",
      "execution_count": null,
      "metadata": {
        "collapsed": true,
        "id": "-b4PHMntFZTv"
      },
      "outputs": [],
      "source": []
    },
    {
      "cell_type": "code",
      "execution_count": null,
      "metadata": {
        "collapsed": true,
        "id": "lGd-8n8cFZTv"
      },
      "outputs": [],
      "source": []
    }
  ],
  "metadata": {
    "kernelspec": {
      "display_name": "Python 3",
      "language": "python",
      "name": "python3"
    },
    "language_info": {
      "codemirror_mode": {
        "name": "ipython",
        "version": 3
      },
      "file_extension": ".py",
      "mimetype": "text/x-python",
      "name": "python",
      "nbconvert_exporter": "python",
      "pygments_lexer": "ipython3",
      "version": "3.4.5"
    },
    "colab": {
      "provenance": []
    }
  },
  "nbformat": 4,
  "nbformat_minor": 0
}